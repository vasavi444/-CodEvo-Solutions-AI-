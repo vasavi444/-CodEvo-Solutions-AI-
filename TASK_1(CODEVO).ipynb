{
  "nbformat": 4,
  "nbformat_minor": 0,
  "metadata": {
    "colab": {
      "provenance": []
    },
    "kernelspec": {
      "name": "python3",
      "display_name": "Python 3"
    },
    "language_info": {
      "name": "python"
    }
  },
  "cells": [
    {
      "cell_type": "code",
      "execution_count": 1,
      "metadata": {
        "id": "67QOKbu9Il5T"
      },
      "outputs": [],
      "source": [
        "#Task 1:Image Classification with logistic regression (Beginner level)"
      ]
    },
    {
      "cell_type": "code",
      "source": [
        "#Importing libraries\n",
        "import numpy as np\n",
        "import matplotlib.pyplot as plt\n",
        "import joblib\n",
        "from sklearn.datasets import fetch_openml\n",
        "from sklearn.model_selection import train_test_split\n",
        "from sklearn.linear_model import LogisticRegression\n",
        "from sklearn.metrics import accuracy_score"
      ],
      "metadata": {
        "id": "GSyWmWnTIpBt"
      },
      "execution_count": 2,
      "outputs": []
    },
    {
      "cell_type": "code",
      "source": [
        "#1)Loding and processing data\n",
        "import pandas as pd\n",
        "from sklearn.datasets import fetch_openml\n",
        "\n",
        "# Loading the MNIST dataset with the 'auto' parser to silence the warning\n",
        "mnist = fetch_openml('mnist_784', version=1, parser='auto')\n",
        "\n",
        "# Extract the features (X) and labels (y)\n",
        "X, y = mnist['data'], mnist['target']\n",
        "\n",
        "# Converting the labels from string to integer\n",
        "y = y.astype(np.int8)\n",
        "\n",
        "# Normalizing the pixel values to [0, 1] by dividing by 255\n",
        "X = X / 255.0\n",
        "\n",
        "# Spliting the dataset into training and testing sets\n",
        "X_train, X_test, y_train, y_test = train_test_split(X, y, test_size=0.2, random_state=42)"
      ],
      "metadata": {
        "id": "RS_zyo83IpKv"
      },
      "execution_count": 3,
      "outputs": []
    },
    {
      "cell_type": "code",
      "source": [
        "#Building and Training the Logistic Regression Model and Evaluating the Model\n",
        "\n",
        "# Instantiating the Logistic Regression model to define how the logistic regression algorithm should behave and prepare it for learning from the data.\n",
        "logistic_model = LogisticRegression(solver='lbfgs', multi_class='ovr', max_iter=1000)\n",
        "\n",
        "# Training the model\n",
        "logistic_model.fit(X_train, y_train)\n",
        "\n",
        "# Making predictions on the test set\n",
        "y_pred = logistic_model.predict(X_test)\n",
        "\n",
        "# Calculating the accuracy score\n",
        "accuracy = accuracy_score(y_test, y_pred)\n",
        "print(f\"Model Accuracy: {accuracy:.4f}\")"
      ],
      "metadata": {
        "colab": {
          "base_uri": "https://localhost:8080/"
        },
        "id": "81nc7JlcIpON",
        "outputId": "934b9ede-4410-4c0c-843e-5d53153971bd"
      },
      "execution_count": 4,
      "outputs": [
        {
          "output_type": "stream",
          "name": "stderr",
          "text": [
            "/usr/local/lib/python3.10/dist-packages/sklearn/linear_model/_logistic.py:1256: FutureWarning: 'multi_class' was deprecated in version 1.5 and will be removed in 1.7. Use OneVsRestClassifier(LogisticRegression(..)) instead. Leave it to its default value to avoid this warning.\n",
            "  warnings.warn(\n"
          ]
        },
        {
          "output_type": "stream",
          "name": "stdout",
          "text": [
            "Model Accuracy: 0.9167\n"
          ]
        }
      ]
    },
    {
      "cell_type": "code",
      "source": [
        "#Evaluating the Model\n",
        "\n",
        "from sklearn.metrics import classification_report, accuracy_score\n",
        "\n",
        "y_pred = logistic_model.predict(X_test)\n",
        "\n",
        "# Calculating accuracy\n",
        "accuracy = accuracy_score(y_test, y_pred)\n",
        "print(f\"Model Accuracy: {accuracy:.4f}\")\n",
        "\n",
        "# Generating classification report for precision, recall, and F1-score\n",
        "report = classification_report(y_test, y_pred, target_names=[str(i) for i in range(10)])\n",
        "print(\"\\nClassification Report:\\n\", report)"
      ],
      "metadata": {
        "colab": {
          "base_uri": "https://localhost:8080/"
        },
        "id": "NhDqXZuaIpRp",
        "outputId": "525e95bc-f9f4-436a-f39e-7ac9121cc188"
      },
      "execution_count": 5,
      "outputs": [
        {
          "output_type": "stream",
          "name": "stdout",
          "text": [
            "Model Accuracy: 0.9167\n",
            "\n",
            "Classification Report:\n",
            "               precision    recall  f1-score   support\n",
            "\n",
            "           0       0.95      0.97      0.96      1343\n",
            "           1       0.94      0.97      0.96      1600\n",
            "           2       0.91      0.90      0.90      1380\n",
            "           3       0.90      0.89      0.89      1433\n",
            "           4       0.91      0.93      0.92      1295\n",
            "           5       0.88      0.88      0.88      1273\n",
            "           6       0.94      0.95      0.95      1396\n",
            "           7       0.93      0.94      0.94      1503\n",
            "           8       0.89      0.85      0.87      1357\n",
            "           9       0.90      0.88      0.89      1420\n",
            "\n",
            "    accuracy                           0.92     14000\n",
            "   macro avg       0.92      0.92      0.92     14000\n",
            "weighted avg       0.92      0.92      0.92     14000\n",
            "\n"
          ]
        }
      ]
    },
    {
      "cell_type": "code",
      "source": [
        "#Save the Trained Model Weights\n",
        "\n",
        "joblib.dump(logistic_model, 'logistic_regression_mnist_model.pkl')"
      ],
      "metadata": {
        "colab": {
          "base_uri": "https://localhost:8080/"
        },
        "id": "Oa6Pd9pnIxRJ",
        "outputId": "c63bb97c-3caa-4301-9df9-c59a929001f7"
      },
      "execution_count": 6,
      "outputs": [
        {
          "output_type": "execute_result",
          "data": {
            "text/plain": [
              "['logistic_regression_mnist_model.pkl']"
            ]
          },
          "metadata": {},
          "execution_count": 6
        }
      ]
    },
    {
      "cell_type": "code",
      "source": [
        "#A brief report summarizing the results.\n",
        "\n",
        "#Dataset: MNIST (70,000 grayscale images of handwritten digits, 28x28 pixels)\n",
        "#Model: Logistic Regression\n",
        "#Data Preprocessing:\n",
        "#The pixel values of the images were normalized to the range [0, 1].\n",
        "#The dataset was split into 80% training and 20% testing sets.\n",
        "#Training and Evaluation:\n",
        "#The logistic regression model was trained using the lbfgs solver with a maximum of 1000 iterations.\n",
        "#After training, the model was evaluated on the test set, resulting in an accuracy score of approximately 92%."
      ],
      "metadata": {
        "id": "jV3-kjiTIxOV"
      },
      "execution_count": null,
      "outputs": []
    },
    {
      "cell_type": "code",
      "source": [],
      "metadata": {
        "id": "iERz07NSIxK6"
      },
      "execution_count": null,
      "outputs": []
    }
  ]
}